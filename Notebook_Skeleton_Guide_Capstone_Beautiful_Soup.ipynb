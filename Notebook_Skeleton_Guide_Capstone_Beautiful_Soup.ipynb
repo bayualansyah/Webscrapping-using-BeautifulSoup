{
  "nbformat": 4,
  "nbformat_minor": 0,
  "metadata": {
    "kernelspec": {
      "display_name": "webscrapping",
      "language": "python",
      "name": "webscrapping"
    },
    "language_info": {
      "codemirror_mode": {
        "name": "ipython",
        "version": 3
      },
      "file_extension": ".py",
      "mimetype": "text/x-python",
      "name": "python",
      "nbconvert_exporter": "python",
      "pygments_lexer": "ipython3",
      "version": "3.8.8"
    },
    "toc": {
      "base_numbering": 1,
      "nav_menu": {},
      "number_sections": true,
      "sideBar": true,
      "skip_h1_title": false,
      "title_cell": "Table of Contents",
      "title_sidebar": "Contents",
      "toc_cell": false,
      "toc_position": {},
      "toc_section_display": true,
      "toc_window_display": false
    },
    "colab": {
      "name": "Notebook Skeleton Guide Capstone Beautiful Soup.ipynb",
      "provenance": [],
      "collapsed_sections": []
    }
  },
  "cells": [
    {
      "cell_type": "markdown",
      "metadata": {
        "id": "3CKjsDFCc61-"
      },
      "source": [
        "# Capstone Webscrapping using BeautifulSoup\n",
        "\n",
        "This notebook contains guidances & tasks on the data processing for the application\n",
        "\n",
        "Saat ini data memainkan peran yang sangat penting setiap setiap harinya. Data dapat dimanfaatkan menjadi sebuah model yang memberikan insight kepada pengolahnya.Tetapi, model apapun yang dibuat dengan data yang buruk akan menghasilkan hasil yang tidak memuaskan. Untuk dapat menghasilkan model yang baik, perlu adanya proses yang dilakukan. Sebelum itu bagaimana cara kita mencari dan mendapatkan data yang akan kita olah atau proses? Salah satunya dapat kita gunakan teknik Webscrapping. Dalam hal ini akan dilakukan webscrapping ke salah satu situs web yaitu https://www.exchange-rates.org/history/IDR/USD/T. DImana akan mengambil Data Kurs  Indonesia Rupiah (IDR) per US Dolar (USD) serta akan dilakukan visualisasi.\n",
        "\n",
        "\n",
        "## Requesting the Data and Creating a BeautifulSoup\n",
        "\n",
        "Let's begin with requesting the web from the site with `get` method."
      ]
    },
    {
      "cell_type": "code",
      "metadata": {
        "ExecuteTime": {
          "end_time": "2020-01-13T05:12:23.275508Z",
          "start_time": "2020-01-13T05:12:20.009898Z"
        },
        "id": "fU4yPlfsc62C"
      },
      "source": [
        "import requests\n",
        "\n",
        "url_get = requests.get('https://www.exchange-rates.org/history/IDR/USD/T')"
      ],
      "execution_count": 1,
      "outputs": []
    },
    {
      "cell_type": "markdown",
      "metadata": {
        "id": "ItNScQayc62D"
      },
      "source": [
        "To visualize what exactly you get from the `request.get`, we can use .content so ee what we exactly get, in here i slice it so it won't make our screen full of the html we get from the page. You can delete the slicing if you want to see what we fully get."
      ]
    },
    {
      "cell_type": "code",
      "metadata": {
        "ExecuteTime": {
          "end_time": "2020-01-13T05:12:23.290648Z",
          "start_time": "2020-01-13T05:12:23.277650Z"
        },
        "colab": {
          "base_uri": "https://localhost:8080/"
        },
        "id": "Uamtc9ogc62D",
        "outputId": "ea6c202c-4af4-4cc0-fb94-6dfb085ba08d"
      },
      "source": [
        "url_get.content[1:777]"
      ],
      "execution_count": 2,
      "outputs": [
        {
          "output_type": "execute_result",
          "data": {
            "text/plain": [
              "b'\\n<!DOCTYPE html>\\r\\n<!--[if lt IE 9]>\\r\\n    <html class=\"no-js ie8 oldie\" lang=\\'en\\' xml:lang=\\'en\\'>\\r\\n<![endif]-->\\r\\n<!--[if gt IE 8]><!--> <html class=\"no-js\" lang=\\'en\\' xml:lang=\\'en\\'> <!--<![endif]-->\\r\\n<head><title>Indonesian Rupiah Exchange Rate - US Dollar - Historical Exchange Rates</title><!-- Quantcast Choice. Consent Manager Tag v2.0 (for TCF 2.0) -->\\r\\n<script type=\"text/javascript\" async=true>\\r\\n(function() {\\r\\n  var host = window.location.hostname;\\r\\n  var element = document.createElement(\\'script\\');\\r\\n  var firstScript = document.getElementsByTagName(\\'script\\')[0];\\r\\n  var url = \\'https://quantcast.mgr.consensu.org\\'\\r\\n    .concat(\\'/choice/\\', \\'8V5d7LJYEMQpZ\\', \\'/\\', host, \\'/choice.js\\')\\r\\n  var uspTries = 0;\\r\\n  var uspTriesLimit = 3;\\r\\n  element.async = true;\\r\\n  element.type ='"
            ]
          },
          "metadata": {
            "tags": []
          },
          "execution_count": 2
        }
      ]
    },
    {
      "cell_type": "markdown",
      "metadata": {
        "id": "UsDOTz_Cc62E"
      },
      "source": [
        "As we can see we get a very unstructured and complex html, which actually contains the codes needed to show the webpages on your web browser. But we as human still confused what and where we can use that piece of code, so here where we use the beautifulsoup. Beautiful soup class will result a beautifulsoup object. Beautiful Soup transforms a complex HTML document into a complex tree of Python objects. \n",
        "\n",
        "Let's make Beautiful soup object and feel free to explore the object here."
      ]
    },
    {
      "cell_type": "code",
      "metadata": {
        "ExecuteTime": {
          "end_time": "2020-01-13T05:12:23.808122Z",
          "start_time": "2020-01-13T05:12:23.292610Z"
        },
        "colab": {
          "base_uri": "https://localhost:8080/"
        },
        "id": "N-0wc1Ylc62E",
        "outputId": "c4067032-54a2-4926-cd77-3a2c4dec008e"
      },
      "source": [
        "from bs4 import BeautifulSoup \n",
        "\n",
        "soup = BeautifulSoup(url_get.content,\"html.parser\")\n",
        "print(type(soup))"
      ],
      "execution_count": 3,
      "outputs": [
        {
          "output_type": "stream",
          "text": [
            "<class 'bs4.BeautifulSoup'>\n"
          ],
          "name": "stdout"
        }
      ]
    },
    {
      "cell_type": "markdown",
      "metadata": {
        "id": "3kHhAu2-c62F"
      },
      "source": [
        "## Finding the right key to scrap the data & Extracting the right information"
      ]
    },
    {
      "cell_type": "markdown",
      "metadata": {
        "id": "rfjbYRMOc62F"
      },
      "source": [
        "What we need is from the website is the date and the corresponding exchange rate. Data ini ditabulasi dalam table dengan table *class* `table table-striped table-hover table-hover-solid-row table-simple history-data`. Kita bisa memasukkan variabel tersebut sebagai parameter untuk `.find()` "
      ]
    },
    {
      "cell_type": "code",
      "metadata": {
        "ExecuteTime": {
          "end_time": "2020-01-13T05:12:23.878904Z",
          "start_time": "2020-01-13T05:12:23.854974Z"
        },
        "colab": {
          "base_uri": "https://localhost:8080/"
        },
        "id": "qndGKzA2c62F",
        "outputId": "ca40c641-15bd-41a4-ebc1-633e1dc9c569"
      },
      "source": [
        "table = soup.find('table', \n",
        "                    attrs={'class':'table table-striped table-hover table-hover-solid-row table-simple history-data'})\n",
        "print(table.prettify()[1:500])"
      ],
      "execution_count": 4,
      "outputs": [
        {
          "output_type": "stream",
          "text": [
            "table class=\"table table-striped table-hover table-hover-solid-row table-simple history-data\">\n",
            " <tbody>\n",
            "  <tr>\n",
            "   <td>\n",
            "    3/5/2021\n",
            "   </td>\n",
            "   <td>\n",
            "    Friday\n",
            "   </td>\n",
            "   <td>\n",
            "    <a href=\"/Rate/USD/IDR/3-5-2021\">\n",
            "     14,292.17893\n",
            "    </a>\n",
            "    IDR\n",
            "   </td>\n",
            "   <td class=\"text-narrow-screen-hidden\">\n",
            "    <a href=\"/Rate/USD/IDR/3-5-2021\">\n",
            "     USD IDR rate for 3/5/2021\n",
            "    </a>\n",
            "   </td>\n",
            "  </tr>\n",
            "  <tr>\n",
            "   <td>\n",
            "    3/4/2021\n",
            "   </td>\n",
            "   <td>\n",
            "    Thursday\n",
            "   </td>\n",
            "   <td>\n",
            "    <a href=\"/Rate/USD/IDR/3\n"
          ],
          "name": "stdout"
        }
      ]
    },
    {
      "cell_type": "markdown",
      "metadata": {
        "id": "Mhu2kfE-c62G"
      },
      "source": [
        "Seperti yang bisa kita lihat di atas, table berisi banyak baris (<tr>). Kita dapat mengekstrak semua baris ini menggunakan perintah  `find_all()` dengan parameter `tr`."
      ]
    },
    {
      "cell_type": "code",
      "metadata": {
        "colab": {
          "base_uri": "https://localhost:8080/"
        },
        "id": "ktNiTlTgc62G",
        "outputId": "0169545f-3d3a-474a-d530-97e841d21304"
      },
      "source": [
        "tr = table.find_all('tr')\n",
        "tr[:2]"
      ],
      "execution_count": 5,
      "outputs": [
        {
          "output_type": "execute_result",
          "data": {
            "text/plain": [
              "[<tr><td>3/5/2021</td><td>Friday</td><td><a href=\"/Rate/USD/IDR/3-5-2021\">14,292.17893</a> IDR</td><td class=\"text-narrow-screen-hidden\"><a href=\"/Rate/USD/IDR/3-5-2021\">USD IDR rate for 3/5/2021</a></td></tr>,\n",
              " <tr><td>3/4/2021</td><td>Thursday</td><td><a href=\"/Rate/USD/IDR/3-4-2021\">14,261.85426</a> IDR</td><td class=\"text-narrow-screen-hidden\"><a href=\"/Rate/USD/IDR/3-4-2021\">USD IDR rate for 3/4/2021</a></td></tr>]"
            ]
          },
          "metadata": {
            "tags": []
          },
          "execution_count": 5
        }
      ]
    },
    {
      "cell_type": "markdown",
      "metadata": {
        "id": "6D4qih44h3bM"
      },
      "source": [
        "    Perhatikan bahwa setiap baris berisi 4 cells:\r\n",
        "    - 1st cell: date\r\n",
        "    - 2nd cell: name of day\r\n",
        "    - 3rd cell: exchange rate\r\n",
        "    - 4th cell: remarks"
      ]
    },
    {
      "cell_type": "markdown",
      "metadata": {
        "id": "W75C8VIuLjSU"
      },
      "source": [
        "Dalam hal ini data yang kita butuhkan adalah data `date` dan `exchange rate`, kita dapat mengekstraknya dengan memanggil index `[0]` untuk `date` dan `[2]` untuk `exchange rate` setelah menggunakan perintah `find_all()` pada masing-masing pemanggilan. Digunakan juga perintah untuk mengubah data ini menjadi string dengan perintah `.text`.\r\n",
        "\r\n"
      ]
    },
    {
      "cell_type": "markdown",
      "metadata": {
        "id": "JmJme1M2jR8n"
      },
      "source": [
        ""
      ]
    },
    {
      "cell_type": "code",
      "metadata": {
        "colab": {
          "base_uri": "https://localhost:8080/"
        },
        "id": "pXwKI-vgc62G",
        "outputId": "6fb8fe0d-f04a-4cd0-de67-ecf7586c2a8a"
      },
      "source": [
        "temp = [] #initiating a tuple\n",
        "\n",
        "for i in range(len(tr)):\n",
        "    row = table.find_all('tr')[i]\n",
        "    if len(row) == 4:\n",
        "        #get period\n",
        "        period = row.find_all('td')[0].text\n",
        "        period = period.strip() #for removing the excess whitespace\n",
        "\n",
        "        #get ex_rate\n",
        "        ex_rate = row.find_all('td')[2].text\n",
        "        ex_rate = ex_rate.strip() #for removing the excess whitespace\n",
        "    \n",
        "    temp.append((period, ex_rate))\n",
        "    \n",
        "temp"
      ],
      "execution_count": 6,
      "outputs": [
        {
          "output_type": "execute_result",
          "data": {
            "text/plain": [
              "[('3/5/2021', '14,292.17893 IDR'),\n",
              " ('3/4/2021', '14,261.85426 IDR'),\n",
              " ('3/3/2021', '14,257.29443 IDR'),\n",
              " ('3/2/2021', '14,256.28041 IDR'),\n",
              " ('3/1/2021', '14,248.60576 IDR'),\n",
              " ('2/26/2021', '14,300.27815 IDR'),\n",
              " ('2/25/2021', '14,139.73096 IDR'),\n",
              " ('2/24/2021', '14,083.03673 IDR'),\n",
              " ('2/23/2021', '14,092.64503 IDR'),\n",
              " ('2/22/2021', '14,118.07274 IDR'),\n",
              " ('2/19/2021', '14,066.79375 IDR'),\n",
              " ('2/18/2021', '14,013.51318 IDR'),\n",
              " ('2/18/2021', '14,013.51318 IDR'),\n",
              " ('2/17/2021', '14,015.16095 IDR'),\n",
              " ('2/16/2021', '13,935.96629 IDR'),\n",
              " ('2/15/2021', '13,918.18725 IDR'),\n",
              " ('2/12/2021', '13,988.54710 IDR'),\n",
              " ('2/11/2021', '13,982.27900 IDR'),\n",
              " ('2/10/2021', '13,994.09212 IDR'),\n",
              " ('2/9/2021', '13,920.52018 IDR'),\n",
              " ('2/8/2021', '14,007.25257 IDR'),\n",
              " ('2/5/2021', '14,008.99630 IDR'),\n",
              " ('2/4/2021', '14,020.87878 IDR'),\n",
              " ('2/3/2021', '13,997.60682 IDR'),\n",
              " ('2/2/2021', '14,004.60175 IDR'),\n",
              " ('2/1/2021', '14,025.27450 IDR'),\n",
              " ('1/29/2021', '14,027.32457 IDR'),\n",
              " ('1/28/2021', '14,048.06146 IDR'),\n",
              " ('1/27/2021', '14,048.72649 IDR'),\n",
              " ('1/26/2021', '14,062.91108 IDR'),\n",
              " ('1/25/2021', '14,021.11609 IDR'),\n",
              " ('1/22/2021', '14,025.60268 IDR'),\n",
              " ('1/21/2021', '13,964.91920 IDR'),\n",
              " ('1/20/2021', '14,021.43046 IDR'),\n",
              " ('1/19/2021', '14,063.60877 IDR'),\n",
              " ('1/18/2021', '14,055.43768 IDR'),\n",
              " ('1/18/2021', '14,055.43768 IDR'),\n",
              " ('1/15/2021', '14,153.46654 IDR'),\n",
              " ('1/14/2021', '14,070.58746 IDR'),\n",
              " ('1/13/2021', '14,125.90174 IDR'),\n",
              " ('1/12/2021', '14,074.81444 IDR'),\n",
              " ('1/11/2021', '14,137.24151 IDR'),\n",
              " ('1/8/2021', '13,991.16348 IDR'),\n",
              " ('1/7/2021', '13,905.64377 IDR'),\n",
              " ('1/6/2021', '13,861.51463 IDR'),\n",
              " ('1/5/2021', '13,906.05686 IDR'),\n",
              " ('1/4/2021', '14,015.86887 IDR'),\n",
              " ('1/1/2021', '14,213.67526 IDR'),\n",
              " ('12/31/2020', '14,120.57461 IDR'),\n",
              " ('12/30/2020', '14,020.01350 IDR'),\n",
              " ('12/29/2020', '14,108.18177 IDR'),\n",
              " ('12/28/2020', '14,139.81753 IDR'),\n",
              " ('12/25/2020', '14,211.65343 IDR'),\n",
              " ('12/24/2020', '14,188.41293 IDR'),\n",
              " ('12/23/2020', '14,183.64082 IDR'),\n",
              " ('12/22/2020', '14,164.98134 IDR'),\n",
              " ('12/21/2020', '14,124.20148 IDR'),\n",
              " ('12/18/2020', '14,101.05758 IDR'),\n",
              " ('12/17/2020', '14,101.72807 IDR'),\n",
              " ('12/16/2020', '14,084.50704 IDR'),\n",
              " ('12/15/2020', '14,124.19150 IDR'),\n",
              " ('12/14/2020', '14,087.17417 IDR'),\n",
              " ('12/11/2020', '14,076.36739 IDR'),\n",
              " ('12/10/2020', '14,103.70444 IDR'),\n",
              " ('12/9/2020', '14,096.39851 IDR'),\n",
              " ('12/8/2020', '14,105.04229 IDR'),\n",
              " ('12/7/2020', '14,103.58039 IDR'),\n",
              " ('12/4/2020', '14,092.75807 IDR'),\n",
              " ('12/3/2020', '14,109.15139 IDR'),\n",
              " ('12/2/2020', '14,094.65785 IDR'),\n",
              " ('12/1/2020', '14,118.51435 IDR'),\n",
              " ('11/30/2020', '14,114.11663 IDR'),\n",
              " ('11/27/2020', '14,078.12448 IDR'),\n",
              " ('11/26/2020', '14,090.70769 IDR'),\n",
              " ('11/25/2020', '14,136.09929 IDR'),\n",
              " ('11/24/2020', '14,137.48161 IDR'),\n",
              " ('11/23/2020', '14,185.57119 IDR'),\n",
              " ('11/20/2020', '14,162.60519 IDR'),\n",
              " ('11/19/2020', '14,165.50144 IDR'),\n",
              " ('11/18/2020', '14,051.29503 IDR'),\n",
              " ('11/17/2020', '14,040.16051 IDR'),\n",
              " ('11/16/2020', '14,085.69501 IDR'),\n",
              " ('11/13/2020', '14,142.77143 IDR'),\n",
              " ('11/12/2020', '14,141.24303 IDR'),\n",
              " ('11/11/2020', '14,073.46024 IDR'),\n",
              " ('11/10/2020', '14,053.76135 IDR'),\n",
              " ('11/9/2020', '14,283.29667 IDR'),\n",
              " ('11/6/2020', '14,214.49744 IDR'),\n",
              " ('11/5/2020', '14,389.14027 IDR'),\n",
              " ('11/4/2020', '14,544.44634 IDR'),\n",
              " ('11/3/2020', '14,589.01774 IDR'),\n",
              " ('11/2/2020', '14,612.89990 IDR'),\n",
              " ('10/30/2020', '14,629.16216 IDR'),\n",
              " ('10/29/2020', '14,701.62361 IDR'),\n",
              " ('10/28/2020', '14,701.92586 IDR'),\n",
              " ('10/27/2020', '14,649.78960 IDR'),\n",
              " ('10/26/2020', '14,652.88010 IDR'),\n",
              " ('10/23/2020', '14,655.04157 IDR'),\n",
              " ('10/22/2020', '14,647.90877 IDR'),\n",
              " ('10/21/2020', '14,641.61060 IDR'),\n",
              " ('10/20/2020', '14,555.88071 IDR'),\n",
              " ('10/19/2020', '14,705.13256 IDR'),\n",
              " ('10/16/2020', '14,688.43616 IDR'),\n",
              " ('10/15/2020', '14,667.95340 IDR'),\n",
              " ('10/14/2020', '14,696.21912 IDR'),\n",
              " ('10/13/2020', '14,687.35100 IDR'),\n",
              " ('10/12/2020', '14,677.85296 IDR'),\n",
              " ('10/9/2020', '14,679.27910 IDR'),\n",
              " ('10/8/2020', '14,692.93025 IDR'),\n",
              " ('10/7/2020', '14,705.58246 IDR'),\n",
              " ('10/6/2020', '14,857.67854 IDR'),\n",
              " ('10/5/2020', '14,797.90178 IDR'),\n",
              " ('10/2/2020', '14,852.30483 IDR'),\n",
              " ('10/1/2020', '14,822.66605 IDR'),\n",
              " ('9/30/2020', '14,867.44686 IDR'),\n",
              " ('9/29/2020', '14,880.93210 IDR'),\n",
              " ('9/28/2020', '14,892.32194 IDR'),\n",
              " ('9/27/2020', '14,859.98349 IDR'),\n",
              " ('9/25/2020', '14,855.63943 IDR'),\n",
              " ('9/24/2020', '14,888.78607 IDR'),\n",
              " ('9/23/2020', '14,825.54899 IDR'),\n",
              " ('9/22/2020', '14,751.85786 IDR'),\n",
              " ('9/21/2020', '14,701.43420 IDR'),\n",
              " ('9/20/2020', '14,728.84529 IDR'),\n",
              " ('9/18/2020', '14,730.71792 IDR'),\n",
              " ('9/17/2020', '14,829.41738 IDR'),\n",
              " ('9/16/2020', '14,807.88761 IDR'),\n",
              " ('9/15/2020', '14,843.44670 IDR'),\n",
              " ('9/14/2020', '14,864.65988 IDR'),\n",
              " ('9/13/2020', '14,876.45021 IDR'),\n",
              " ('9/11/2020', '14,865.27553 IDR'),\n",
              " ('9/10/2020', '14,871.58664 IDR'),\n",
              " ('9/9/2020', '14,783.50009 IDR'),\n",
              " ('9/8/2020', '14,839.54267 IDR'),\n",
              " ('9/7/2020', '14,743.92989 IDR'),\n",
              " ('9/6/2020', '14,754.95155 IDR')]"
            ]
          },
          "metadata": {
            "tags": []
          },
          "execution_count": 6
        }
      ]
    },
    {
      "cell_type": "markdown",
      "metadata": {
        "id": "8h7S3W1JNeOc"
      },
      "source": [
        "Data tersebut disimpan dalam objek `temp`. Pada saat dijalankan data tersebut dimulai dari tanggal saat ini (terbaru) hingga masa lampau. Untuk dapat membalikan tanggal tersebut digunakan perintah `temp[:: -1]` "
      ]
    },
    {
      "cell_type": "code",
      "metadata": {
        "colab": {
          "base_uri": "https://localhost:8080/"
        },
        "id": "qYe2IENcc62G",
        "outputId": "0c278a5c-acc1-4d72-ff28-91a2aa9fdc48"
      },
      "source": [
        "temp = temp[::-1]\n",
        "print(temp[:10])\n",
        "len(temp)"
      ],
      "execution_count": 7,
      "outputs": [
        {
          "output_type": "stream",
          "text": [
            "[('9/6/2020', '14,754.95155 IDR'), ('9/7/2020', '14,743.92989 IDR'), ('9/8/2020', '14,839.54267 IDR'), ('9/9/2020', '14,783.50009 IDR'), ('9/10/2020', '14,871.58664 IDR'), ('9/11/2020', '14,865.27553 IDR'), ('9/13/2020', '14,876.45021 IDR'), ('9/14/2020', '14,864.65988 IDR'), ('9/15/2020', '14,843.44670 IDR'), ('9/16/2020', '14,807.88761 IDR')]\n"
          ],
          "name": "stdout"
        },
        {
          "output_type": "execute_result",
          "data": {
            "text/plain": [
              "136"
            ]
          },
          "metadata": {
            "tags": []
          },
          "execution_count": 7
        }
      ]
    },
    {
      "cell_type": "markdown",
      "metadata": {
        "id": "gSGtL1U5c62G"
      },
      "source": [
        "## Creating data frame & Data wrangling"
      ]
    },
    {
      "cell_type": "markdown",
      "metadata": {
        "id": "4fDmA8kqc62H"
      },
      "source": [
        "Put the array into dataframe"
      ]
    },
    {
      "cell_type": "code",
      "metadata": {
        "ExecuteTime": {
          "end_time": "2020-01-13T05:12:41.517372Z",
          "start_time": "2020-01-13T05:12:29.130015Z"
        },
        "colab": {
          "base_uri": "https://localhost:8080/",
          "height": 372
        },
        "id": "DinQmp3Tc62H",
        "outputId": "44fbe82d-f9e9-4e3e-9bb3-a28aef4bfb6e"
      },
      "source": [
        "import pandas as pd\n",
        "# import numpy as np\n",
        "# import sys\n",
        "\n",
        "df = pd.DataFrame(temp, columns = ('date', 'exchange_rate'))\n",
        "print(df.info())\n",
        "df.head()"
      ],
      "execution_count": 8,
      "outputs": [
        {
          "output_type": "stream",
          "text": [
            "<class 'pandas.core.frame.DataFrame'>\n",
            "RangeIndex: 136 entries, 0 to 135\n",
            "Data columns (total 2 columns):\n",
            " #   Column         Non-Null Count  Dtype \n",
            "---  ------         --------------  ----- \n",
            " 0   date           136 non-null    object\n",
            " 1   exchange_rate  136 non-null    object\n",
            "dtypes: object(2)\n",
            "memory usage: 2.2+ KB\n",
            "None\n"
          ],
          "name": "stdout"
        },
        {
          "output_type": "execute_result",
          "data": {
            "text/html": [
              "<div>\n",
              "<style scoped>\n",
              "    .dataframe tbody tr th:only-of-type {\n",
              "        vertical-align: middle;\n",
              "    }\n",
              "\n",
              "    .dataframe tbody tr th {\n",
              "        vertical-align: top;\n",
              "    }\n",
              "\n",
              "    .dataframe thead th {\n",
              "        text-align: right;\n",
              "    }\n",
              "</style>\n",
              "<table border=\"1\" class=\"dataframe\">\n",
              "  <thead>\n",
              "    <tr style=\"text-align: right;\">\n",
              "      <th></th>\n",
              "      <th>date</th>\n",
              "      <th>exchange_rate</th>\n",
              "    </tr>\n",
              "  </thead>\n",
              "  <tbody>\n",
              "    <tr>\n",
              "      <th>0</th>\n",
              "      <td>9/6/2020</td>\n",
              "      <td>14,754.95155 IDR</td>\n",
              "    </tr>\n",
              "    <tr>\n",
              "      <th>1</th>\n",
              "      <td>9/7/2020</td>\n",
              "      <td>14,743.92989 IDR</td>\n",
              "    </tr>\n",
              "    <tr>\n",
              "      <th>2</th>\n",
              "      <td>9/8/2020</td>\n",
              "      <td>14,839.54267 IDR</td>\n",
              "    </tr>\n",
              "    <tr>\n",
              "      <th>3</th>\n",
              "      <td>9/9/2020</td>\n",
              "      <td>14,783.50009 IDR</td>\n",
              "    </tr>\n",
              "    <tr>\n",
              "      <th>4</th>\n",
              "      <td>9/10/2020</td>\n",
              "      <td>14,871.58664 IDR</td>\n",
              "    </tr>\n",
              "  </tbody>\n",
              "</table>\n",
              "</div>"
            ],
            "text/plain": [
              "        date     exchange_rate\n",
              "0   9/6/2020  14,754.95155 IDR\n",
              "1   9/7/2020  14,743.92989 IDR\n",
              "2   9/8/2020  14,839.54267 IDR\n",
              "3   9/9/2020  14,783.50009 IDR\n",
              "4  9/10/2020  14,871.58664 IDR"
            ]
          },
          "metadata": {
            "tags": []
          },
          "execution_count": 8
        }
      ]
    },
    {
      "cell_type": "markdown",
      "metadata": {
        "id": "zJS3VCCYc62H"
      },
      "source": [
        "Selanjutnya dilakukakn data cleaning (pembersihan data yang tidak sesuai). Dalam hal ini :\r\n",
        "- Tipe data `date` adalah object, sehingga perlu dirubah menjadi `datetime64` agar dapat diproses sebagai data tanggal\r\n",
        "- Menghapus teks IDR pada kolom `exchange_rate` menggunakan `.split('')` lalu mengambil object pertama dari daftar yang dihasilkan"
      ]
    },
    {
      "cell_type": "code",
      "metadata": {
        "ExecuteTime": {
          "end_time": "2020-01-13T05:12:59.165559Z",
          "start_time": "2020-01-13T05:12:58.910012Z"
        },
        "id": "j4Cdz5GKc62H"
      },
      "source": [
        "df['date'] = df['date'].astype('datetime64')\n",
        "df['exchange_rate'] = df['exchange_rate'].apply(lambda x: x.split(' ')[0])"
      ],
      "execution_count": 9,
      "outputs": []
    },
    {
      "cell_type": "markdown",
      "metadata": {
        "id": "hEiBeIO_Ow-v"
      },
      "source": [
        "- Hapus koma `,` dari nilai yang merepresentasikan desimal pada `exchange_rate`\r\n",
        "- Tipe data `exchange_rate` adalah object, sehingga perlu diruubah menjadi `float` agar menjadi data bertipe numeric"
      ]
    },
    {
      "cell_type": "code",
      "metadata": {
        "colab": {
          "base_uri": "https://localhost:8080/",
          "height": 372
        },
        "id": "QLboOOYec62H",
        "outputId": "a435aada-474b-4e3e-d8d9-d5863dda380c"
      },
      "source": [
        "df['exchange_rate'] = df['exchange_rate'].str.replace(',', '')\n",
        "df['exchange_rate'] = df['exchange_rate'].astype(float)\n",
        "print(df.info())\n",
        "df.head()"
      ],
      "execution_count": 10,
      "outputs": [
        {
          "output_type": "stream",
          "text": [
            "<class 'pandas.core.frame.DataFrame'>\n",
            "RangeIndex: 136 entries, 0 to 135\n",
            "Data columns (total 2 columns):\n",
            " #   Column         Non-Null Count  Dtype         \n",
            "---  ------         --------------  -----         \n",
            " 0   date           136 non-null    datetime64[ns]\n",
            " 1   exchange_rate  136 non-null    float64       \n",
            "dtypes: datetime64[ns](1), float64(1)\n",
            "memory usage: 2.2 KB\n",
            "None\n"
          ],
          "name": "stdout"
        },
        {
          "output_type": "execute_result",
          "data": {
            "text/html": [
              "<div>\n",
              "<style scoped>\n",
              "    .dataframe tbody tr th:only-of-type {\n",
              "        vertical-align: middle;\n",
              "    }\n",
              "\n",
              "    .dataframe tbody tr th {\n",
              "        vertical-align: top;\n",
              "    }\n",
              "\n",
              "    .dataframe thead th {\n",
              "        text-align: right;\n",
              "    }\n",
              "</style>\n",
              "<table border=\"1\" class=\"dataframe\">\n",
              "  <thead>\n",
              "    <tr style=\"text-align: right;\">\n",
              "      <th></th>\n",
              "      <th>date</th>\n",
              "      <th>exchange_rate</th>\n",
              "    </tr>\n",
              "  </thead>\n",
              "  <tbody>\n",
              "    <tr>\n",
              "      <th>0</th>\n",
              "      <td>2020-09-06</td>\n",
              "      <td>14754.95155</td>\n",
              "    </tr>\n",
              "    <tr>\n",
              "      <th>1</th>\n",
              "      <td>2020-09-07</td>\n",
              "      <td>14743.92989</td>\n",
              "    </tr>\n",
              "    <tr>\n",
              "      <th>2</th>\n",
              "      <td>2020-09-08</td>\n",
              "      <td>14839.54267</td>\n",
              "    </tr>\n",
              "    <tr>\n",
              "      <th>3</th>\n",
              "      <td>2020-09-09</td>\n",
              "      <td>14783.50009</td>\n",
              "    </tr>\n",
              "    <tr>\n",
              "      <th>4</th>\n",
              "      <td>2020-09-10</td>\n",
              "      <td>14871.58664</td>\n",
              "    </tr>\n",
              "  </tbody>\n",
              "</table>\n",
              "</div>"
            ],
            "text/plain": [
              "        date  exchange_rate\n",
              "0 2020-09-06    14754.95155\n",
              "1 2020-09-07    14743.92989\n",
              "2 2020-09-08    14839.54267\n",
              "3 2020-09-09    14783.50009\n",
              "4 2020-09-10    14871.58664"
            ]
          },
          "metadata": {
            "tags": []
          },
          "execution_count": 10
        }
      ]
    },
    {
      "cell_type": "markdown",
      "metadata": {
        "id": "3m5wG9y0c62I"
      },
      "source": [
        "### Implementing your webscrapping to the flask dashboard\n",
        "\n",
        "- Copy paste all of your web scrapping process to the desired position on the `app.py`\n",
        "- Changing the title of the dasboard at `index.html`"
      ]
    },
    {
      "cell_type": "markdown",
      "metadata": {
        "id": "bwZ22AZhc62I"
      },
      "source": [
        "## Finishing This Notebook with Your Analysis and Conclusion\n",
        "\n",
        "First you can do start with making the data visualisation. "
      ]
    },
    {
      "cell_type": "code",
      "metadata": {
        "colab": {
          "base_uri": "https://localhost:8080/",
          "height": 286
        },
        "id": "tmxV5XQLc62I",
        "outputId": "3b0703ab-2211-4194-e7df-9ad6d80725fb"
      },
      "source": [
        "import matplotlib.pyplot as plt\n",
        "plt.style.use('seaborn-whitegrid')\n",
        "df.set_index('date').plot()\n",
        "plt.legend()\n",
        "plt.title('Indonesian Rupiah (IDR) per US Dollar(USD)')\n",
        "plt.ylabel('Exchange Rate ( IDR / USD )')\n",
        "plt.xlabel('Date')\n",
        "plt.show()"
      ],
      "execution_count": 11,
      "outputs": [
        {
          "output_type": "display_data",
          "data": {
            "image/png": "[encoded data removed]",
            "text/plain": [
              "<Figure size 432x288 with 1 Axes>"
            ]
          },
          "metadata": {
            "tags": []
          }
        }
      ]
    },
    {
      "cell_type": "markdown",
      "metadata": {
        "id": "X24ADAsiT5Wm"
      },
      "source": [
        "Dari visualisasi yang didapatkan, diperoleh insight dimana pada bulan September 2020 relatif stabil. Di bulan Oktober 2020 mengalami penurunan hingga pada awal bulan November terjadi penurunan yang cukup besar nilai tukar IDR terhadap USD yang mengalami fluktuasi. Pada Desember 2020 nilai tukar (kurs) relatif stabil di Rp 14100 / USD, hingga pada bulan Januari 2021 terjadi fluktuasi dan sampai bulan Februari 2021 mengalami penurunan, kemudian naik hingga 14292 / USD hingga hari ini."
      ]
    },
    {
      "cell_type": "code",
      "metadata": {
        "ExecuteTime": {
          "end_time": "2020-01-13T05:20:56.208237Z",
          "start_time": "2020-01-13T05:20:56.076043Z"
        },
        "colab": {
          "base_uri": "https://localhost:8080/"
        },
        "id": "ANcHCqM8c62J",
        "outputId": "287c5878-4a54-4fd4-a75a-c04e384f4f15"
      },
      "source": [
        "# Minimal Rate\r\n",
        "min_rate = df['exchange_rate'].min()\r\n",
        "print(f\"Min Rate: IDR {min_rate} on {df.loc[df['exchange_rate'] == min_rate, 'date'].astype(str).values}\")\r\n",
        "\r\n",
        "# Average Rate\r\n",
        "avg_rate = df['exchange_rate'].mean()\r\n",
        "print(f\"Avg Rate: IDR {avg_rate}\")\r\n",
        "\r\n",
        "# Maximum Rate\r\n",
        "max_rate = df['exchange_rate'].max()\r\n",
        "print(f\"Max Rate: IDR {max_rate} on {df.loc[df['exchange_rate'] == max_rate, 'date'].astype(str).values}\")"
      ],
      "execution_count": 12,
      "outputs": [
        {
          "output_type": "stream",
          "text": [
            "Min Rate: IDR 13861.51463 on ['2021-01-06']\n",
            "Avg Rate: IDR 14317.62609014705\n",
            "Max Rate: IDR 14892.32194 on ['2020-09-28']\n"
          ],
          "name": "stdout"
        }
      ]
    },
    {
      "cell_type": "markdown",
      "metadata": {
        "id": "ezkCnuFGhufA"
      },
      "source": [
        "Dapat kita lihat pula, nilai tukar `exchange_rate` terendah terjadi pada tanggal 06 Januari 2021 sebesar 13861.51 IDR/USD dan `exchange_rate` terbesar terjadi pada tanggal 28 September 2020 sebesar 14892.32 IDR/USD. Secara rata-rata, `exchange_rate` selama periode 06 September 2020 hingga 05 Maret 2021 adalah 14317.63 IDR/USD. "
      ]
    },
    {
      "cell_type": "markdown",
      "metadata": {
        "id": "Cmfj9Pncc62J"
      },
      "source": [
        "### Extra Challange\n",
        "\n",
        "This will be not included to the scoring. \n",
        "\n",
        "- You can create additional analysis from the data.\n",
        "- Implement it to the dashboard with at `app.py` dan `index.html`."
      ]
    }
  ]
}